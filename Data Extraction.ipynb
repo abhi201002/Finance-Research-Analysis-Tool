{
 "cells": [
  {
   "cell_type": "code",
   "execution_count": 2,
   "id": "ae24a6bc-ed42-4ea6-9cc5-19b741f16fbc",
   "metadata": {},
   "outputs": [
    {
     "name": "stderr",
     "output_type": "stream",
     "text": [
      "/opt/homebrew/anaconda3/lib/python3.11/site-packages/sentence_transformers/cross_encoder/CrossEncoder.py:13: TqdmExperimentalWarning: Using `tqdm.autonotebook.tqdm` in notebook mode. Use `tqdm.tqdm` instead to force console mode (e.g. in jupyter console)\n",
      "  from tqdm.autonotebook import tqdm, trange\n"
     ]
    }
   ],
   "source": [
    "from langchain.document_loaders import UnstructuredURLLoader\n",
    "from sentence_transformers import SentenceTransformer"
   ]
  },
  {
   "cell_type": "code",
   "execution_count": 3,
   "id": "c88bba31-947b-4736-8dc0-8ae5b392fa6c",
   "metadata": {},
   "outputs": [
    {
     "data": {
      "text/plain": [
       "3"
      ]
     },
     "execution_count": 3,
     "metadata": {},
     "output_type": "execute_result"
    }
   ],
   "source": [
    "url = [\n",
    "    \"https://www.moneycontrol.com/news/business/tata-motors-mahindra-gain-certificates-for-production-linked-payouts-11281691.html\",\n",
    "    \"https://www.moneycontrol.com/news/business/tata-motors-launches-punch-icng-price-starts-at-rs-7-1-lakh-11098751.html\",\n",
    "    \"https://www.moneycontrol.com/news/business/stocks/buy-tata-motors-target-of-rs-743-kr-choksey-11080811.html\",\n",
    "]\n",
    "loader = UnstructuredURLLoader(urls = url)\n",
    "data = loader.load()\n",
    "len(data)"
   ]
  },
  {
   "cell_type": "code",
   "execution_count": 4,
   "id": "f5d1e655-b450-4431-9e72-f5e2fbdadc98",
   "metadata": {},
   "outputs": [],
   "source": [
    "from langchain.text_splitter import RecursiveCharacterTextSplitter\n",
    "\n",
    "recSplitter = RecursiveCharacterTextSplitter(separators=[\"\\n\\n\",\"\\n\",\" \"], chunk_size = 200,\n",
    "                    chunk_overlap = 0)\n",
    "\n",
    "new_data_ = recSplitter.split_documents(data)"
   ]
  },
  {
   "cell_type": "code",
   "execution_count": 5,
   "id": "215cade7-7692-46ab-909f-8b8ff4dd919d",
   "metadata": {},
   "outputs": [
    {
     "data": {
      "text/plain": [
       "104"
      ]
     },
     "execution_count": 5,
     "metadata": {},
     "output_type": "execute_result"
    }
   ],
   "source": [
    "len(new_data_)"
   ]
  },
  {
   "cell_type": "code",
   "execution_count": 6,
   "id": "2bacea96-da9a-4aa0-881a-938b65cfa9db",
   "metadata": {},
   "outputs": [],
   "source": [
    "for i,doc in enumerate(new_data_):\n",
    "    new_data_[i] = doc.page_content"
   ]
  },
  {
   "cell_type": "code",
   "execution_count": 12,
   "id": "ec6ff9b2-ead9-41f2-8a6b-b75ee56aa34b",
   "metadata": {},
   "outputs": [],
   "source": [
    "with open(\"document.pkl\", 'wb') as f:\n",
    "    pickle.dump(new_data_,f)"
   ]
  },
  {
   "cell_type": "code",
   "execution_count": 7,
   "id": "186ddb52-f676-442c-a84a-1806a68c9a84",
   "metadata": {},
   "outputs": [
    {
     "name": "stderr",
     "output_type": "stream",
     "text": [
      "/opt/homebrew/anaconda3/lib/python3.11/site-packages/transformers/tokenization_utils_base.py:1617: FutureWarning: `clean_up_tokenization_spaces` was not set. It will be set to `True` by default. This behavior will be deprecated in transformers v4.45, and will be then set to `False` by default. For more details check this issue: https://github.com/huggingface/transformers/issues/31884\n",
      "  warnings.warn(\n"
     ]
    },
    {
     "data": {
      "text/plain": [
       "(104, 768)"
      ]
     },
     "execution_count": 7,
     "metadata": {},
     "output_type": "execute_result"
    }
   ],
   "source": [
    "encoder= SentenceTransformer('all-mpnet-base-v2')\n",
    "\n",
    "vectors = encoder.encode(new_data_)\n",
    "\n",
    "vectors.shape"
   ]
  },
  {
   "cell_type": "code",
   "execution_count": 8,
   "id": "39b9651e-64d2-4deb-8085-87262438a25b",
   "metadata": {},
   "outputs": [],
   "source": [
    "import pickle\n",
    "\n",
    "with open('vectorEmb.pkl', 'wb') as f:\n",
    "    pickle.dump(vectors, f)"
   ]
  },
  {
   "cell_type": "code",
   "execution_count": 9,
   "id": "30d699a0-e272-465f-a450-2ea365892fe7",
   "metadata": {},
   "outputs": [
    {
     "data": {
      "application/vnd.jupyter.widget-view+json": {
       "model_id": "cca99027ca8c4a1086229004c8d43017",
       "version_major": 2,
       "version_minor": 0
      },
      "text/plain": [
       "model.safetensors:   0%|          | 0.00/30.2M [00:00<?, ?B/s]"
      ]
     },
     "metadata": {},
     "output_type": "display_data"
    },
    {
     "data": {
      "application/vnd.jupyter.widget-view+json": {
       "model_id": "836927aad3214220a6a7236ba44269e6",
       "version_major": 2,
       "version_minor": 0
      },
      "text/plain": [
       "README.md:   0%|          | 0.00/271k [00:00<?, ?B/s]"
      ]
     },
     "metadata": {},
     "output_type": "display_data"
    },
    {
     "data": {
      "application/vnd.jupyter.widget-view+json": {
       "model_id": "d766d91c76ad444995aec12b38b0793f",
       "version_major": 2,
       "version_minor": 0
      },
      "text/plain": [
       "config.json:   0%|          | 0.00/169 [00:00<?, ?B/s]"
      ]
     },
     "metadata": {},
     "output_type": "display_data"
    },
    {
     "data": {
      "application/vnd.jupyter.widget-view+json": {
       "model_id": "d3da6828813c4c22a5f4d2a6d65a5575",
       "version_major": 2,
       "version_minor": 0
      },
      "text/plain": [
       "tokenizer.json:   0%|          | 0.00/684k [00:00<?, ?B/s]"
      ]
     },
     "metadata": {},
     "output_type": "display_data"
    }
   ],
   "source": [
    "from model2vec import StaticModel\n",
    "\n",
    "# Load a pretrained Model2Vec model\n",
    "model = StaticModel.from_pretrained(\"minishlab/M2V_base_output\")\n",
    "\n",
    "# Compute text embeddings\n",
    "embeddings = model.encode([\"Example sentence\"])"
   ]
  },
  {
   "cell_type": "code",
   "execution_count": 11,
   "id": "15ad9c09-acfe-46fc-b0ed-c3b6efcd3bf3",
   "metadata": {},
   "outputs": [
    {
     "data": {
      "text/plain": [
       "(1, 256)"
      ]
     },
     "execution_count": 11,
     "metadata": {},
     "output_type": "execute_result"
    }
   ],
   "source": [
    "embeddings.shape"
   ]
  }
 ],
 "metadata": {
  "kernelspec": {
   "display_name": "Python 3 (ipykernel)",
   "language": "python",
   "name": "python3"
  },
  "language_info": {
   "codemirror_mode": {
    "name": "ipython",
    "version": 3
   },
   "file_extension": ".py",
   "mimetype": "text/x-python",
   "name": "python",
   "nbconvert_exporter": "python",
   "pygments_lexer": "ipython3",
   "version": "3.11.7"
  }
 },
 "nbformat": 4,
 "nbformat_minor": 5
}
